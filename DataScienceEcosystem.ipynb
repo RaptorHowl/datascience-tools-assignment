{
 "cells": [
  {
   "cell_type": "markdown",
   "id": "60288d53-ecfa-4e30-a0bb-81a9f0c77a92",
   "metadata": {},
   "source": [
    "# Data Science Tools and Ecosystem"
   ]
  },
  {
   "cell_type": "markdown",
   "id": "0ec1e266-8c10-4b36-9de3-07d08323b82c",
   "metadata": {},
   "source": [
    "In this notebook, Data Science Tools and Ecosystem are summarized."
   ]
  },
  {
   "cell_type": "markdown",
   "id": "7749c4d3-91c5-45bc-8995-757c87ef5a23",
   "metadata": {},
   "source": [
    "Some of the popular languages that Data Scientists use are: -\n",
    "1. Python\n",
    "2. R\n",
    "3. SQL\n",
    "4. Julia"
   ]
  },
  {
   "cell_type": "markdown",
   "id": "f47c7c18-dcce-42ab-92c0-7aeaae2bb804",
   "metadata": {},
   "source": [
    "Some of the commonly used libraries used by Data Scientists include: -\n",
    "1. Pandas\n",
    "2. NumPy\n",
    "3. Matplotlib\n",
    "4. Scikit-learn\n",
    "5. TensorFlow"
   ]
  },
  {
   "cell_type": "markdown",
   "id": "11a22fc9-3b30-42c7-a9bc-86436940de16",
   "metadata": {},
   "source": [
    "| Data Science Tools        |\n",
    "|---------------------------|\n",
    "| Jupyter Notebooks         |\n",
    "| RStudio                   |\n",
    "| Apache Zeppelin           |"
   ]
  },
  {
   "cell_type": "markdown",
   "id": "6b09aec3-6b0b-48cc-8cbb-14ba80c62e13",
   "metadata": {},
   "source": [
    "### Below are a few examples of evaluating arithmetic expressions in Python."
   ]
  },
  {
   "cell_type": "code",
   "execution_count": 2,
   "id": "6e30126c-8575-4c15-8e3e-8082d4bcab4d",
   "metadata": {},
   "outputs": [
    {
     "data": {
      "text/plain": [
       "17"
      ]
     },
     "execution_count": 2,
     "metadata": {},
     "output_type": "execute_result"
    }
   ],
   "source": [
    "# This is a simple arithmetic expression to multiply then add integers\n",
    "(3 * 4) + 5"
   ]
  },
  {
   "cell_type": "code",
   "execution_count": 3,
   "id": "9b7f62bd-d3aa-4e31-8625-689f0d49cbe7",
   "metadata": {},
   "outputs": [
    {
     "data": {
      "text/plain": [
       "3.3333333333333335"
      ]
     },
     "execution_count": 3,
     "metadata": {},
     "output_type": "execute_result"
    }
   ],
   "source": [
    "# This will convert 200 minutes to hours by dividing by 60\n",
    "200 / 60"
   ]
  },
  {
   "cell_type": "markdown",
   "id": "0f02795a-2332-4cd7-8af3-09ad50067257",
   "metadata": {},
   "source": [
    "**Objectives:**\n",
    "\n",
    "- List popular languages for Data Science\n",
    "- List commonly used libraries in Data Science\n",
    "- Introduce Data Science tools\n",
    "- Demonstrate arithmetic expressions in Python\n",
    "- Convert time units using Python"
   ]
  },
  {
   "cell_type": "markdown",
   "id": "a9c1160c-c6c9-4ae5-83e7-6f7531d0c0c4",
   "metadata": {},
   "source": [
    "## Author\n",
    "Sourav Sharma"
   ]
  },
  {
   "cell_type": "code",
   "execution_count": null,
   "id": "abee59fb-86a6-4229-aab7-ec5559931102",
   "metadata": {},
   "outputs": [],
   "source": []
  }
 ],
 "metadata": {
  "kernelspec": {
   "display_name": "Python 3 (ipykernel)",
   "language": "python",
   "name": "python3"
  },
  "language_info": {
   "codemirror_mode": {
    "name": "ipython",
    "version": 3
   },
   "file_extension": ".py",
   "mimetype": "text/x-python",
   "name": "python",
   "nbconvert_exporter": "python",
   "pygments_lexer": "ipython3",
   "version": "3.13.3"
  }
 },
 "nbformat": 4,
 "nbformat_minor": 5
}
